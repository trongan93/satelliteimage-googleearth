{
 "cells": [
  {
   "cell_type": "markdown",
   "metadata": {},
   "source": [
    "# Training + Testing Landslide Prediction"
   ]
  },
  {
   "cell_type": "markdown",
   "metadata": {},
   "source": [
    "Created: <b>Trong-An Bui</b> <br>\n",
    "Organization: <b>ViP Lab - National Chi Nan University, Taiwan</b> <br/>\n",
    "Email: trongan93@gmail.com <br/>\n",
    "Project: <b>AI Cube Satellite</b> <br/>\n",
    "Advisor: <b>Prof. Pei-Jun Lee</b>"
   ]
  },
  {
   "cell_type": "markdown",
   "metadata": {},
   "source": [
    "## Imports"
   ]
  },
  {
   "cell_type": "code",
   "execution_count": 1,
   "metadata": {},
   "outputs": [
    {
     "name": "stdout",
     "output_type": "stream",
     "text": [
      "py 3.7.7\n",
      "tf 2.3.0\n",
      "keras 2.4.0\n",
      "mem 128555.12109375\n",
      "cpu 40\n"
     ]
    },
    {
     "data": {
      "text/plain": [
       "['Sat Sep  5 07:43:37 2020       ',\n",
       " '+-----------------------------------------------------------------------------+',\n",
       " '| NVIDIA-SMI 440.100      Driver Version: 440.100      CUDA Version: 10.2     |',\n",
       " '|-------------------------------+----------------------+----------------------+',\n",
       " '| GPU  Name        Persistence-M| Bus-Id        Disp.A | Volatile Uncorr. ECC |',\n",
       " '| Fan  Temp  Perf  Pwr:Usage/Cap|         Memory-Usage | GPU-Util  Compute M. |',\n",
       " '|===============================+======================+======================|',\n",
       " '|   0  Quadro RTX 4000     Off  | 00000000:1D:00.0 Off |                  N/A |',\n",
       " '| 30%   27C    P8     8W / 125W |   4752MiB /  7982MiB |      0%      Default |',\n",
       " '+-------------------------------+----------------------+----------------------+',\n",
       " '|   1  Quadro RTX 4000     Off  | 00000000:1E:00.0 Off |                  N/A |',\n",
       " '| 30%   27C    P8     5W / 125W |   4776MiB /  7982MiB |      0%      Default |',\n",
       " '+-------------------------------+----------------------+----------------------+',\n",
       " '|   2  Quadro RTX 4000     Off  | 00000000:1F:00.0 Off |                  N/A |',\n",
       " '| 30%   26C    P8     4W / 125W |   4776MiB /  7982MiB |      0%      Default |',\n",
       " '+-------------------------------+----------------------+----------------------+',\n",
       " '|   3  Quadro RTX 4000     Off  | 00000000:20:00.0 Off |                  N/A |',\n",
       " '| 30%   28C    P8     9W / 125W |   4752MiB /  7982MiB |      0%      Default |',\n",
       " '+-------------------------------+----------------------+----------------------+',\n",
       " '|   4  GeForce GTX 108...  Off  | 00000000:21:00.0 Off |                  N/A |',\n",
       " '| 25%   27C    P8     8W / 250W |   4557MiB / 11178MiB |      0%      Default |',\n",
       " '+-------------------------------+----------------------+----------------------+',\n",
       " '|   5  GeForce GTX 108...  Off  | 00000000:22:00.0 Off |                  N/A |',\n",
       " '| 20%   19C    P8     8W / 250W |   4581MiB / 11178MiB |      0%      Default |',\n",
       " '+-------------------------------+----------------------+----------------------+',\n",
       " '|   6  GeForce GTX 108...  Off  | 00000000:23:00.0 Off |                  N/A |',\n",
       " '| 20%   26C    P8     8W / 250W |   4581MiB / 11178MiB |      0%      Default |',\n",
       " '+-------------------------------+----------------------+----------------------+',\n",
       " '|   7  GeForce GTX 108...  Off  | 00000000:24:00.0 Off |                  N/A |',\n",
       " '| 20%   24C    P8     8W / 250W |   4557MiB / 11178MiB |      0%      Default |',\n",
       " '+-------------------------------+----------------------+----------------------+',\n",
       " '                                                                               ',\n",
       " '+-----------------------------------------------------------------------------+',\n",
       " '| Processes:                                                       GPU Memory |',\n",
       " '|  GPU       PID   Type   Process name                             Usage      |',\n",
       " '|=============================================================================|',\n",
       " '|    0    107289      C   ...er/anaconda3/envs/viplab-gpu/bin/python  4741MiB |',\n",
       " '|    1    107289      C   ...er/anaconda3/envs/viplab-gpu/bin/python  4765MiB |',\n",
       " '|    2    107289      C   ...er/anaconda3/envs/viplab-gpu/bin/python  4765MiB |',\n",
       " '|    3    107289      C   ...er/anaconda3/envs/viplab-gpu/bin/python  4741MiB |',\n",
       " '|    4    107289      C   ...er/anaconda3/envs/viplab-gpu/bin/python  4547MiB |',\n",
       " '|    5    107289      C   ...er/anaconda3/envs/viplab-gpu/bin/python  4571MiB |',\n",
       " '|    6    107289      C   ...er/anaconda3/envs/viplab-gpu/bin/python  4571MiB |',\n",
       " '|    7    107289      C   ...er/anaconda3/envs/viplab-gpu/bin/python  4547MiB |',\n",
       " '+-----------------------------------------------------------------------------+']"
      ]
     },
     "execution_count": 1,
     "metadata": {},
     "output_type": "execute_result"
    }
   ],
   "source": [
    "#os.environ[\"CUDA_VISIBLE_DEVICES\"] = \"\"\n",
    "#os.environ[\"AUTOGRAPH_VERBOSITY\"] = \"10\"\n",
    "#os.environ[\"TF_FORCE_GPU_ALLOW_GROWTH\"] = \"true\"\n",
    "\n",
    "from platform import python_version\n",
    "import warnings\n",
    "import time\n",
    "import datetime as dt\n",
    "from sklearn.metrics import classification_report, confusion_matrix\n",
    "import multiprocessing as mp\n",
    "import shutil\n",
    "\n",
    "import matplotlib.pyplot as plt\n",
    "import matplotlib.image as mpimg\n",
    "\n",
    "import tensorflow as tf\n",
    "from tensorflow.keras import backend as K\n",
    "from tensorflow.keras.preprocessing.image import ImageDataGenerator\n",
    "# from tensorflow.keras.applications.mobilenet_v2 import MobileNetV2, preprocess_input, decode_predictions\n",
    "from tensorflow.keras.applications.efficientnet import EfficientNetB0, preprocess_input, decode_predictions\n",
    "from tensorflow.keras.models import *\n",
    "from tensorflow.keras.layers import *\n",
    "from tensorflow.keras.optimizers import *\n",
    "from tensorflow.keras.utils import *\n",
    "from tensorflow.keras.callbacks import *\n",
    "from tensorflow.keras.initializers import *\n",
    "\n",
    "import pandas as pd\n",
    "import numpy as np\n",
    "import seaborn as sn\n",
    "\n",
    "from PIL import Image\n",
    "import xml.etree.ElementTree as ET\n",
    "import psutil\n",
    "import random\n",
    "\n",
    "warnings.filterwarnings(\"ignore\")\n",
    "%matplotlib inline\n",
    "\n",
    "print(\"py\", python_version())\n",
    "print(\"tf\", tf.__version__)\n",
    "print(\"keras\", tf.keras.__version__)\n",
    "mem = psutil.virtual_memory()\n",
    "print(\"mem\", mem.total/1024/1024)\n",
    "cpu = mp.cpu_count()\n",
    "print(\"cpu\", cpu)\n",
    "\n",
    "%system nvidia-smi\n",
    "#%system rocm-smi"
   ]
  },
  {
   "cell_type": "markdown",
   "metadata": {},
   "source": [
    "## Variables"
   ]
  },
  {
   "cell_type": "code",
   "execution_count": 2,
   "metadata": {},
   "outputs": [],
   "source": [
    "epochs = 250\n",
    "batch_size = 150\n",
    "testsplit = .2\n",
    "targetx = 224\n",
    "targety = 224\n",
    "learning_rate = 0.0001\n",
    "classes = 2\n",
    "seed = random.randint(1, 1000)\n",
    "\n",
    "data_dir = \"../LandslideDataset/\"\n",
    "resized_dir = \"./img_data/resized/\"\n",
    "test_dir = \"./img_data/test/\""
   ]
  },
  {
   "cell_type": "markdown",
   "metadata": {},
   "source": [
    "## Crop images using provided annotations"
   ]
  },
  {
   "cell_type": "raw",
   "metadata": {},
   "source": [
    "%system rm -rf $resized_dir\n",
    "%system mkdir $resized_dir\n",
    "\n",
    "\n",
    "def crop_and_save_img(img_path, new_dir_path, original_ext_filter = 0):\n",
    "#     print('trongan93:', new_dir_path)\n",
    "    image = Image.open(img_path)\n",
    "    image = image.resize((targetx,targety))\n",
    "    image.save(new_dir_path)\n",
    "\n",
    "def resize_images(ext = 0):\n",
    "    imgPaths = sorted(list(paths.list_images(data_dir)))\n",
    "#     print('images len: ', len(imgPaths))\n",
    "    \n",
    "    labels_dir = os.listdir(data_dir)\n",
    "    for label_dir in labels_dir:\n",
    "        cropper_label_dir = resized_dir+label_dir\n",
    "        if not os.path.exists(cropper_label_dir):\n",
    "            os.makedirs(cropper_label_dir)\n",
    "            print(\"sucessfull make dir for label: \", cropper_label_dir)\n",
    "    \n",
    "    \n",
    "    total_images = 0\n",
    "\n",
    "    for imgPath in imgPaths:\n",
    "#         print(imgPath)\n",
    "        img_name_info = imgPath.split(os.path.sep)\n",
    "        imgLabel = img_name_info[2]\n",
    "#         print('img label: ', imgLabel)\n",
    "        imgName = img_name_info[3]\n",
    "#         print('img name: ', imgName)\n",
    "        file_ext = os.path.splitext(imgName)[1]\n",
    "#         print('img ext: ', file_ext)\n",
    "        \n",
    "        new_path = resized_dir + imgLabel + '/' + imgName\n",
    "#         print(new_path)\n",
    "        if ext == 0:\n",
    "            crop_and_save_img(imgPath,new_path, original_ext_filter = 0)\n",
    "        elif ext == 1:\n",
    "            # TIF file\n",
    "            if file_ext == '.TIF':\n",
    "                crop_and_save_img(imgPath,new_path, original_ext_filter = 0)\n",
    "            else:\n",
    "                break\n",
    "        elif ext == 2:\n",
    "            # TIF file\n",
    "            if file_ext == '.RAW':\n",
    "                crop_and_save_img(imgPath,new_path, original_ext_filter = 0)\n",
    "            else:\n",
    "                break\n",
    "                \n",
    "        total_images += 1\n",
    "        \n",
    "#         annotations_dir_list = os.listdir(annotations_dir + breed)\n",
    "#         img_list = [data_dir + breed + '/' + i for i in dir_list]\n",
    "#         os.makedirs(cropped_dir + breed)\n",
    "\n",
    "#         for file in img_list:\n",
    "#             annotation_path = annotations_dir + breed + '/' + os.path.basename(file[:-4])\n",
    "#             newpath = cropped_dir + breed + '/' + os.path.basename(file)\n",
    "#             save_cropped_img(file, annotation_path, newpath)\n",
    "#             total_images += 1\n",
    "    \n",
    "    print(\"total images resized\", total_images)\n",
    "\n",
    "resize_images()"
   ]
  },
  {
   "cell_type": "markdown",
   "metadata": {},
   "source": [
    "## Keras image data readers"
   ]
  },
  {
   "cell_type": "code",
   "execution_count": 3,
   "metadata": {},
   "outputs": [
    {
     "name": "stdout",
     "output_type": "stream",
     "text": [
      "Found 977 images belonging to 2 classes.\n",
      "Found 243 images belonging to 2 classes.\n"
     ]
    }
   ],
   "source": [
    "datagen = ImageDataGenerator(\n",
    "        shear_range=0.1,\n",
    "        zoom_range=0.1,\n",
    "        brightness_range=[0.9,1.1],\n",
    "        horizontal_flip=True,\n",
    "        validation_split=testsplit,\n",
    "        preprocessing_function=preprocess_input\n",
    ")\n",
    "\n",
    "train_generator = datagen.flow_from_directory(\n",
    "        resized_dir,\n",
    "        target_size=(targetx, targety),\n",
    "        batch_size=batch_size,\n",
    "        class_mode='categorical',\n",
    "        shuffle=True,\n",
    "        seed=seed,\n",
    "        subset=\"training\"\n",
    ")\n",
    "\n",
    "test_generator = datagen.flow_from_directory(\n",
    "        resized_dir,\n",
    "        target_size=(targetx, targety),\n",
    "        batch_size=batch_size,\n",
    "        class_mode='categorical',\n",
    "        shuffle=False,\n",
    "        seed=seed,\n",
    "        subset=\"validation\"\n",
    ")"
   ]
  },
  {
   "cell_type": "markdown",
   "metadata": {},
   "source": [
    "## Sample image"
   ]
  },
  {
   "cell_type": "code",
   "execution_count": 4,
   "metadata": {},
   "outputs": [
    {
     "name": "stdout",
     "output_type": "stream",
     "text": [
      "./img_data/resized/Negative/3842558_landsat_8_rgb.tif\n"
     ]
    },
    {
     "data": {
      "text/plain": [
       "<matplotlib.image.AxesImage at 0x7f4c43f1a3d0>"
      ]
     },
     "execution_count": 4,
     "metadata": {},
     "output_type": "execute_result"
    },
    {
     "data": {
      "image/png": "[encoded data removed]",
      "text/plain": [
       "<Figure size 432x288 with 1 Axes>"
      ]
     },
     "metadata": {
      "needs_background": "light"
     },
     "output_type": "display_data"
    }
   ],
   "source": [
    "img = train_generator.filepaths[np.random.random_integers(low=0, high=train_generator.samples)]\n",
    "print(img)\n",
    "img = mpimg.imread(img)\n",
    "plt.imshow(img)"
   ]
  },
  {
   "cell_type": "markdown",
   "metadata": {},
   "source": [
    "### GPU configuration"
   ]
  },
  {
   "cell_type": "code",
   "execution_count": 5,
   "metadata": {},
   "outputs": [
    {
     "name": "stdout",
     "output_type": "stream",
     "text": [
      "INFO:tensorflow:Using MirroredStrategy with devices ('/job:localhost/replica:0/task:0/device:GPU:0', '/job:localhost/replica:0/task:0/device:GPU:1', '/job:localhost/replica:0/task:0/device:GPU:2', '/job:localhost/replica:0/task:0/device:GPU:3', '/job:localhost/replica:0/task:0/device:GPU:4', '/job:localhost/replica:0/task:0/device:GPU:5', '/job:localhost/replica:0/task:0/device:GPU:6', '/job:localhost/replica:0/task:0/device:GPU:7')\n",
      "Number of devices: 8\n"
     ]
    }
   ],
   "source": [
    "# Create a MirroredStrategy.\n",
    "strategy = tf.distribute.MirroredStrategy()\n",
    "print('Number of devices: {}'.format(strategy.num_replicas_in_sync))"
   ]
  },
  {
   "cell_type": "markdown",
   "metadata": {},
   "source": [
    "## Keras callbacks"
   ]
  },
  {
   "cell_type": "code",
   "execution_count": 6,
   "metadata": {},
   "outputs": [
    {
     "name": "stdout",
     "output_type": "stream",
     "text": [
      "WARNING:tensorflow:`period` argument is deprecated. Please use `save_freq` to specify the frequency in number of batches seen.\n",
      "WARNING:tensorflow:`batch_size` is no longer needed in the `TensorBoard` Callback and will be ignored in TensorFlow 2.0.\n"
     ]
    }
   ],
   "source": [
    "checkpoint = ModelCheckpoint('landslide_classifier_efficientnet.h5',\n",
    "                             monitor='val_accuracy',\n",
    "                             save_best_only=True,\n",
    "                             verbose=1,\n",
    "                             mode='auto',\n",
    "                             save_weights_only=False,\n",
    "                             period=1)\n",
    "\n",
    "#https://github.com/keras-team/keras/issues/3358\n",
    "tensorboard = TensorBoard(log_dir=\"./logs-\"+dt.datetime.now().strftime(\"%m%d%Y%H%M%S\"),\n",
    "                            histogram_freq=0,\n",
    "                            batch_size=batch_size,\n",
    "                            write_graph=False,\n",
    "                            update_freq='epoch')\n",
    "\n",
    "def epoch_end(epoch, logs):\n",
    "    message = \"End of epoch \"+str(epoch)+\". Learning rate: \"+str(K.eval(model.optimizer.lr))\n",
    "    os.system('echo '+message)\n",
    "\n",
    "def epoch_begin(epoch, logs):\n",
    "    print(\"Learning rate: \", K.eval(model.optimizer.lr))\n",
    "    \n",
    "def train_begin(logs):\n",
    "    os.system(\"echo Beginning training\")\n",
    "\n",
    "earlystop = EarlyStopping(monitor='val_accuracy',\n",
    "                          min_delta=.0001,\n",
    "                          patience=50,\n",
    "                          verbose=1,\n",
    "                          mode='auto',\n",
    "                          baseline=None,\n",
    "                          restore_best_weights=True)\n",
    "\n",
    "reducelr = ReduceLROnPlateau(monitor='val_accuracy',\n",
    "                             factor=np.sqrt(.1),\n",
    "                             patience=5,\n",
    "                             verbose=1,\n",
    "                             mode='auto',\n",
    "                             min_delta=.0001,\n",
    "                             cooldown=0,\n",
    "                             min_lr=0.0000001)\n",
    "\n",
    "lambdacb = LambdaCallback(on_epoch_begin=epoch_begin,\n",
    "                          on_epoch_end=epoch_end,\n",
    "                          on_batch_begin=None,\n",
    "                          on_batch_end=None,\n",
    "                          on_train_begin=train_begin,\n",
    "                          on_train_end=None)"
   ]
  },
  {
   "cell_type": "markdown",
   "metadata": {},
   "source": [
    "## Define new top layers and compile model"
   ]
  },
  {
   "cell_type": "code",
   "execution_count": 7,
   "metadata": {},
   "outputs": [
    {
     "ename": "NameError",
     "evalue": "name 'MobileNetV2' is not defined",
     "output_type": "error",
     "traceback": [
      "\u001b[0;31m---------------------------------------------------------------------------\u001b[0m",
      "\u001b[0;31mNameError\u001b[0m                                 Traceback (most recent call last)",
      "\u001b[0;32m<ipython-input-7-5c98bf8f9372>\u001b[0m in \u001b[0;36m<module>\u001b[0;34m\u001b[0m\n\u001b[1;32m      1\u001b[0m \u001b[0;32mwith\u001b[0m \u001b[0mstrategy\u001b[0m\u001b[0;34m.\u001b[0m\u001b[0mscope\u001b[0m\u001b[0;34m(\u001b[0m\u001b[0;34m)\u001b[0m\u001b[0;34m:\u001b[0m\u001b[0;34m\u001b[0m\u001b[0;34m\u001b[0m\u001b[0m\n\u001b[0;32m----> 2\u001b[0;31m     \u001b[0mbase_model\u001b[0m \u001b[0;34m=\u001b[0m \u001b[0mMobileNetV2\u001b[0m\u001b[0;34m(\u001b[0m\u001b[0minclude_top\u001b[0m\u001b[0;34m=\u001b[0m\u001b[0;32mFalse\u001b[0m\u001b[0;34m,\u001b[0m \u001b[0mweights\u001b[0m\u001b[0;34m=\u001b[0m\u001b[0;34m'imagenet'\u001b[0m\u001b[0;34m,\u001b[0m \u001b[0minput_shape\u001b[0m\u001b[0;34m=\u001b[0m\u001b[0;34m(\u001b[0m\u001b[0mtargetx\u001b[0m\u001b[0;34m,\u001b[0m \u001b[0mtargety\u001b[0m\u001b[0;34m,\u001b[0m \u001b[0;36m3\u001b[0m\u001b[0;34m)\u001b[0m\u001b[0;34m)\u001b[0m\u001b[0;34m\u001b[0m\u001b[0;34m\u001b[0m\u001b[0m\n\u001b[0m\u001b[1;32m      3\u001b[0m     \u001b[0;31m# base_model = EfficientNetB0(include_top=False, weights='imagenet', input_shape=(targetx, targety, 3))\u001b[0m\u001b[0;34m\u001b[0m\u001b[0;34m\u001b[0m\u001b[0;34m\u001b[0m\u001b[0m\n\u001b[1;32m      4\u001b[0m \u001b[0;34m\u001b[0m\u001b[0m\n\u001b[1;32m      5\u001b[0m     \u001b[0mx\u001b[0m \u001b[0;34m=\u001b[0m \u001b[0mbase_model\u001b[0m\u001b[0;34m.\u001b[0m\u001b[0moutput\u001b[0m\u001b[0;34m\u001b[0m\u001b[0;34m\u001b[0m\u001b[0m\n",
      "\u001b[0;31mNameError\u001b[0m: name 'MobileNetV2' is not defined"
     ]
    }
   ],
   "source": [
    "with strategy.scope():\n",
    "#     base_model = MobileNetV2(include_top=False, weights='imagenet', input_shape=(targetx, targety, 3))\n",
    "    base_model = EfficientNetB0(include_top=False, weights='imagenet', input_shape=(targetx, targety, 3))\n",
    "\n",
    "    x = base_model.output\n",
    "    x = GlobalAveragePooling2D()(x)\n",
    "    # x = Dropout(rate = .2)(x)\n",
    "    x = BatchNormalization()(x)\n",
    "    x = Dense(1280, activation='relu',  kernel_initializer=glorot_uniform(seed), bias_initializer='zeros')(x)\n",
    "    # x = Dropout(rate = .2)(x)\n",
    "    x = BatchNormalization()(x)\n",
    "    predictions = Dense(classes, activation='softmax', kernel_initializer='random_uniform', bias_initializer='zeros')(x)\n",
    "\n",
    "    model = Model(inputs=base_model.input, outputs=predictions)\n",
    "\n",
    "    optimizer = Adam(lr=learning_rate)\n",
    "    # optimizer = RMSprop(lr=learning_rate)\n",
    "\n",
    "    loss = \"categorical_crossentropy\"\n",
    "    # loss = \"kullback_leibler_divergence\"\n",
    "\n",
    "    for layer in model.layers:\n",
    "        layer.trainable = True\n",
    "    # for layer in model.layers[-2:]:\n",
    "    #     layer.trainable = True\n",
    "\n",
    "    model.compile(optimizer=optimizer,\n",
    "                  loss=loss,\n",
    "                  metrics=[\"accuracy\"])\n",
    "\n",
    "    model.summary()\n",
    "    # for i, layer in enumerate(model.layers):\n",
    "    #     print(i, layer.name, layer.trainable)"
   ]
  },
  {
   "cell_type": "markdown",
   "metadata": {},
   "source": [
    "## Fit model"
   ]
  },
  {
   "cell_type": "code",
   "execution_count": null,
   "metadata": {},
   "outputs": [],
   "source": [
    "%%time\n",
    "\n",
    "params = model.fit_generator(generator=train_generator, \n",
    "                                steps_per_epoch=len(train_generator), \n",
    "                                validation_data=test_generator, \n",
    "                                validation_steps=len(test_generator),\n",
    "                                epochs=epochs,\n",
    "                                callbacks=[reducelr, earlystop, lambdacb, tensorboard, checkpoint])"
   ]
  },
  {
   "cell_type": "raw",
   "metadata": {},
   "source": [
    "%%time\n",
    "params = model.fit(generator=train_generator, \n",
    "                                steps_per_epoch=len(train_generator), \n",
    "                                validation_data=test_generator, \n",
    "                                validation_steps=len(test_generator),\n",
    "                                epochs=epochs,\n",
    "                                callbacks=[reducelr, earlystop, lambdacb, tensorboard, checkpoint])"
   ]
  },
  {
   "cell_type": "markdown",
   "metadata": {},
   "source": [
    "## Training and test loss/accuracy graphs"
   ]
  },
  {
   "cell_type": "code",
   "execution_count": null,
   "metadata": {},
   "outputs": [],
   "source": [
    "# plt.subplot(2, 1, 1)\n",
    "plt.title('Training and test accuracy')\n",
    "plt.plot(params.epoch, params.history['accuracy'], label='Training accuracy')\n",
    "plt.plot(params.epoch, params.history['val_accuracy'], label='Test accuracy')\n",
    "plt.legend()\n",
    "plt.show()\n",
    "\n",
    "# plt.subplot(2, 1, 2)\n",
    "plt.title('Training and test loss')\n",
    "plt.plot(params.epoch, params.history['loss'], label='Training loss')\n",
    "plt.plot(params.epoch, params.history['val_loss'], label='Test loss')\n",
    "plt.legend()\n",
    "\n",
    "plt.show()"
   ]
  },
  {
   "cell_type": "markdown",
   "metadata": {},
   "source": [
    "## Sample prediction"
   ]
  },
  {
   "cell_type": "code",
   "execution_count": null,
   "metadata": {},
   "outputs": [],
   "source": [
    "# Randomly test an image from the test set\n",
    "\n",
    "# model.load_weights('dog_breed_classifier.h5')\n",
    "\n",
    "imageno=np.random.random_integers(low=0, high=test_generator.samples)\n",
    "print('predict with test number: ', imageno)\n",
    "\n",
    "name = test_generator.filepaths[imageno]\n",
    "print(name)\n",
    "plt.imshow(mpimg.imread(name))\n",
    "\n",
    "img = Image.open(test_generator.filepaths[imageno]).resize((targetx, targety))\n",
    "probabilities = model.predict(preprocess_input(np.expand_dims(img, axis=0)))\n",
    "breed_list = tuple(zip(test_generator.class_indices.values(), test_generator.class_indices.keys()))\n",
    "\n",
    "for i in probabilities[0].argsort()[-5:][::-1]: \n",
    "    print(probabilities[0][i], \"  :  \" , breed_list[i])"
   ]
  },
  {
   "cell_type": "markdown",
   "metadata": {},
   "source": [
    "## Sample for paper test"
   ]
  },
  {
   "cell_type": "code",
   "execution_count": null,
   "metadata": {},
   "outputs": [],
   "source": [
    "# path for landslide \n",
    "#./data/reized/WithLandslide/25_94_Large_cropped_6.TIF\n",
    "# ./data/reized/WithLandslide/44_-123_Large_cropped_4.TIF\n",
    "# ./imgtest/27.770733_85.868467_VERY_LARGE_cropped_LC08_L1TP_141041_20130915_20170502_01_T1.TIF\n",
    "# ./imgtest/27.770733_85.868467_VERY_LARGE_cropped_LC08_L1TP_141041_20140918_20170419_01_T1.TIF\n",
    "img_test = Image.open(test_dir + \"27.770733_85.868467_VERY_LARGE_cropped_LC08_L1TP_141041_20140918_20170419_01_T1.TIF\").resize((targetx, targety))\n",
    "plt.imshow(img_test,origin='lower')\n",
    "probabilities = model.predict(preprocess_input(np.expand_dims(img, axis=0)))\n",
    "breed_list = tuple(zip(test_generator.class_indices.values(), test_generator.class_indices.keys()))\n",
    "\n",
    "for i in probabilities[0].argsort()[-5:][::-1]: \n",
    "    print(probabilities[0][i], \"  :  \" , breed_list[i])"
   ]
  },
  {
   "cell_type": "markdown",
   "metadata": {},
   "source": [
    "## Classification report"
   ]
  },
  {
   "cell_type": "code",
   "execution_count": null,
   "metadata": {},
   "outputs": [],
   "source": [
    "test_generator.reset()\n",
    "predictions = model.predict_generator(test_generator, steps=len(test_generator))\n",
    "y = np.argmax(predictions, axis=1)\n",
    "\n",
    "print('Classification Report')\n",
    "cr = classification_report(y_true=test_generator.classes, y_pred=y, target_names=test_generator.class_indices)\n",
    "print(cr)"
   ]
  },
  {
   "cell_type": "markdown",
   "metadata": {},
   "source": [
    "## Confusion matrix"
   ]
  },
  {
   "cell_type": "code",
   "execution_count": null,
   "metadata": {},
   "outputs": [],
   "source": [
    "print('Confusion Matrix')\n",
    "cm = confusion_matrix(test_generator.classes, y)\n",
    "df = pd.DataFrame(cm, columns=test_generator.class_indices)\n",
    "plt.figure(figsize=(80,80))\n",
    "sn.heatmap(df, annot=True)"
   ]
  },
  {
   "cell_type": "markdown",
   "metadata": {},
   "source": [
    "Reference: \n",
    "## Transfer learning with Keras and MobileNet V2\n",
    "#### https://www.kaggle.com/devang/transfer-learning-with-keras-and-mobilenet-v2/"
   ]
  },
  {
   "cell_type": "code",
   "execution_count": null,
   "metadata": {},
   "outputs": [],
   "source": []
  },
  {
   "cell_type": "code",
   "execution_count": null,
   "metadata": {},
   "outputs": [],
   "source": []
  }
 ],
 "metadata": {
  "kernelspec": {
   "display_name": "viplab-gpu",
   "language": "python",
   "name": "viplab-gpu"
  },
  "language_info": {
   "codemirror_mode": {
    "name": "ipython",
    "version": 3
   },
   "file_extension": ".py",
   "mimetype": "text/x-python",
   "name": "python",
   "nbconvert_exporter": "python",
   "pygments_lexer": "ipython3",
   "version": "3.7.7"
  }
 },
 "nbformat": 4,
 "nbformat_minor": 4
}
